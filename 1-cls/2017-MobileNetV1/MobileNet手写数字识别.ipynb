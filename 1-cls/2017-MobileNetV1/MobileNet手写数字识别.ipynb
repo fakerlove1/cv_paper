{
 "cells": [
  {
   "cell_type": "markdown",
   "source": [
    "# 1.创建模型\n",
    "为了适应一些手写数字的模型，对模型的一些参数进行了修改\n",
    "原版的请参考mobilenet_v2.py"
   ],
   "metadata": {
    "collapsed": false,
    "pycharm": {
     "name": "#%% md\n"
    }
   }
  },
  {
   "cell_type": "code",
   "execution_count": 55,
   "outputs": [
    {
     "name": "stdout",
     "output_type": "stream",
     "text": [
      "last_channel 64\n",
      "input_channel 32\n"
     ]
    }
   ],
   "source": [
    "from torch import nn\n",
    "import torch\n",
    "\n",
    "\n",
    "def _make_divisible(ch, divisor=8, min_ch=None):\n",
    "    \"\"\"\n",
    "    这个函数取自原始的tf回购。\n",
    "   它确保所有层都有一个能被8整除的通道号\n",
    "   从这里可以看到:\n",
    "    This function is taken from the original tf repo.\n",
    "    It ensures that all layers have a channel number that is divisible by 8\n",
    "\n",
    "    It can be seen here:\n",
    "    https://github.com/tensorflow/models/blob/master/research/slim/nets/mobilenet/mobilenet.py\n",
    "    \"\"\"\n",
    "    if min_ch is None:\n",
    "        min_ch = divisor\n",
    "    new_ch = max(min_ch, int(ch + divisor / 2) // divisor * divisor)\n",
    "    # Make sure that round down does not go down by more than 10%.\n",
    "    if new_ch < 0.9 * ch:\n",
    "        new_ch += divisor\n",
    "    return new_ch\n",
    "\n",
    "\n",
    "class ConvBNReLU(nn.Sequential):\n",
    "    \"\"\"\n",
    "    V2中使用的卷积结构\n",
    "    \"\"\"\n",
    "\n",
    "    def __init__(self, in_channel, out_channel, kernel_size=3, stride=1, groups=1):\n",
    "        \"\"\"\n",
    "\n",
    "        如果group设置成 in_channel的维数,这样子的卷积操作就变成了dw操作\n",
    "        \"\"\"\n",
    "        padding = (kernel_size - 1) // 2\n",
    "        super(ConvBNReLU, self).__init__(\n",
    "            nn.Conv2d(in_channel,\n",
    "                      out_channel,\n",
    "                      (kernel_size, kernel_size),\n",
    "                      (stride, stride),\n",
    "                      padding,\n",
    "                      groups=groups,\n",
    "                      bias=False),\n",
    "            # 因为我们要使用bn层，所有这里的偏置不起任何作用\n",
    "            nn.BatchNorm2d(out_channel),\n",
    "            nn.ReLU6(inplace=True)\n",
    "        )\n",
    "\n",
    "\n",
    "class InvertedResidual(nn.Module):\n",
    "    \"\"\"\n",
    "    定义倒残差结构\n",
    "    \"\"\"\n",
    "\n",
    "    def __init__(self, in_channel, out_channel, stride, expand_ratio):\n",
    "        super(InvertedResidual, self).__init__()\n",
    "        # 隐藏层通道数=输入通道*扩展因子,\n",
    "        # 其实就是1*1卷积核的个数\n",
    "        hidden_channel = in_channel * expand_ratio\n",
    "        # 是否使用短连接，\n",
    "        # 当stride为1，且输入特这鞥矩阵与输出特征矩阵的shape相同时才有shortcut链接\n",
    "        self.use_shortcut = stride == 1 and in_channel == out_channel\n",
    "\n",
    "        layers = []\n",
    "        # 如果扩展因子不等于1的话\n",
    "        if expand_ratio != 1:\n",
    "            # 1x1 pointwise conv\n",
    "            # 就会有1*1的卷积层\n",
    "            layers.append(ConvBNReLU(in_channel, hidden_channel, kernel_size=1))\n",
    "        layers.extend([\n",
    "            # 3x3 depthwise conv\n",
    "            ConvBNReLU(hidden_channel, hidden_channel, stride=stride, groups=hidden_channel),\n",
    "            # 1x1 pointwise conv(linear)\n",
    "            nn.Conv2d(hidden_channel, out_channel, kernel_size=(1, 1), bias=False),\n",
    "            nn.BatchNorm2d(out_channel),\n",
    "        ])\n",
    "\n",
    "        self.conv = nn.Sequential(*layers)\n",
    "\n",
    "    def forward(self, x):\n",
    "        if self.use_shortcut:\n",
    "            return x + self.conv(x)\n",
    "        else:\n",
    "            return self.conv(x)\n",
    "\n",
    "\n",
    "class MobileNetV2(nn.Module):\n",
    "    def __init__(self, num_classes=1000, alpha=1.0, round_nearest=8):\n",
    "        super(MobileNetV2, self).__init__()\n",
    "        block = InvertedResidual\n",
    "        input_channel = _make_divisible(32 * alpha, round_nearest)\n",
    "        last_channel = _make_divisible(64 * alpha, round_nearest)\n",
    "        print(\"last_channel\", last_channel)\n",
    "        print(\"input_channel\", input_channel)\n",
    "        inverted_residual_setting = [\n",
    "            # t, c, n, s\n",
    "            [1, 16, 1, 1],\n",
    "            [6, 24, 2, 2],\n",
    "            [6, 32, 3, 2],\n",
    "            [6, 64, 4, 2],\n",
    "            # [6, 96, 3, 1],\n",
    "            # [6, 160, 3, 2],\n",
    "            # [6, 320, 1, 1],\n",
    "        ]\n",
    "\n",
    "        features = []\n",
    "        # conv1 layer，这个是第一个卷积,需要的是3通道,这里我修改称1通道，因为是黑白图片\n",
    "        features.append(ConvBNReLU(1, input_channel, stride=2))\n",
    "\n",
    "        # 开始构建以下的部分\n",
    "        # building inverted residual residual blockes\n",
    "        for t, c, n, s in inverted_residual_setting:\n",
    "            # 构建倒残差结构\n",
    "            output_channel = _make_divisible(c * alpha, round_nearest)\n",
    "            for i in range(n):\n",
    "                stride = s if i == 0 else 1\n",
    "                features.append(block(input_channel, output_channel, stride, expand_ratio=t))\n",
    "                input_channel = output_channel\n",
    "\n",
    "        # building last several layers，定义表格中的卷积层\n",
    "        features.append(ConvBNReLU(input_channel, last_channel, 1))\n",
    "\n",
    "        # 到这里特征已经全部提取完毕\n",
    "        # combine feature layers\n",
    "        self.features = nn.Sequential(*features)\n",
    "\n",
    "        # building classifier，定义下次样\n",
    "        self.avgpool = nn.AdaptiveAvgPool2d((1, 1))\n",
    "        self.classifier = nn.Sequential(\n",
    "            nn.Dropout(0.2),\n",
    "            nn.Linear(last_channel, num_classes)\n",
    "        )\n",
    "\n",
    "        # weight initialization\n",
    "        # 初始化权重的的意思\n",
    "        for m in self.modules():\n",
    "            if isinstance(m, nn.Conv2d):\n",
    "                nn.init.kaiming_normal_(m.weight, mode='fan_out')\n",
    "                if m.bias is not None:\n",
    "                    nn.init.zeros_(m.bias)\n",
    "            elif isinstance(m, nn.BatchNorm2d):\n",
    "                nn.init.ones_(m.weight)\n",
    "                nn.init.zeros_(m.bias)\n",
    "            elif isinstance(m, nn.Linear):\n",
    "                nn.init.normal_(m.weight, 0, 0.01)\n",
    "                nn.init.zeros_(m.bias)\n",
    "\n",
    "    def forward(self, x):\n",
    "        x = self.features(x)\n",
    "        x = self.avgpool(x)\n",
    "        x = torch.flatten(x, 1)\n",
    "        x = self.classifier(x)\n",
    "        return x\n",
    "\n",
    "model = MobileNetV2(num_classes=10)"
   ],
   "metadata": {
    "collapsed": false,
    "pycharm": {
     "name": "#%%\n"
    }
   }
  },
  {
   "cell_type": "code",
   "execution_count": 56,
   "outputs": [],
   "source": [
    "import torch\n",
    "from torch.utils import data  # 获取迭代数据\n",
    "from torch.autograd import Variable  # 获取变量\n",
    "import torchvision\n",
    "from torch.utils.data import Dataset, DataLoader\n",
    "from torchvision.datasets import mnist  # 获取数据集\n",
    "import matplotlib.pyplot as plt\n",
    "from torch import nn\n",
    "import os\n",
    "\n",
    "path = r\"./model\"\n",
    "if not os.path.exists(path):\n",
    "    os.mkdir(path)\n",
    "\n",
    "\n",
    "def get_dataloader(mode):\n",
    "    \"\"\"\n",
    "    获取数据集加载\n",
    "    :param mode:\n",
    "    :return:\n",
    "    \"\"\"\n",
    "    #准备数据迭代器\n",
    "    # 这里我已经下载好了，所以是否需要下载写的是false\n",
    "    #准备数据集，其中0.1307，0.3081为MNIST数据的均值和标准差，这样操作能够对其进行标准化\n",
    "    #因为MNIST只有一个通道（黑白图片）,所以元组中只有一个值\n",
    "    dataset = torchvision.datasets.MNIST('../../data/mini', train=mode,\n",
    "                                         download=False,\n",
    "                                         transform=torchvision.transforms.Compose([\n",
    "                                             torchvision.transforms.ToTensor(),\n",
    "                                             torchvision.transforms.Normalize(\n",
    "                                                 (0.1307,), (0.3081,))\n",
    "                                         ]))\n",
    "\n",
    "    return DataLoader(dataset, batch_size=64, shuffle=True)"
   ],
   "metadata": {
    "collapsed": false,
    "pycharm": {
     "name": "#%%\n"
    }
   }
  },
  {
   "cell_type": "code",
   "execution_count": 57,
   "outputs": [],
   "source": [
    "\n",
    "\n",
    "# 加载预训练模型\n",
    "# model_weight_path = \"./mobilenet_v2.pth\"\n",
    "# assert os.path.exists(model_weight_path), \"file {} dose not exist.\".format(model_weight_path)\n",
    "# # 载入权重字典\n",
    "# pre_weights = torch.load(model_weight_path, map_location='cpu')\n",
    "# # 删除classifier weights\n",
    "# pre_dict = {k: v for k, v in pre_weights.items() if model.state_dict()[k].numel() == v.numel()}\n",
    "#\n",
    "# # 冻结特征提取部分的权重\n",
    "# for param in model.features.parameters():\n",
    "#     param.requires_grad = False\n",
    "\n",
    "loss_func = nn.CrossEntropyLoss()\n",
    "\n",
    "params = [p for p in model.parameters() if p.requires_grad]\n",
    "opt = torch.optim.Adam(model.parameters(), lr=0.001)\n",
    "plt.rcParams[\"font.sans-serif\"] = [\"SimHei\"]\n",
    "plt.rcParams[\"axes.unicode_minus\"] = False"
   ],
   "metadata": {
    "collapsed": false,
    "pycharm": {
     "name": "#%%\n"
    }
   }
  },
  {
   "cell_type": "code",
   "execution_count": 58,
   "outputs": [],
   "source": [
    "import numpy as np\n",
    "\n",
    "\n",
    "def train(epoch):\n",
    "    loss_count = []\n",
    "    # 获取训练集\n",
    "    train_loader = get_dataloader(True)\n",
    "    print(\"训练集的长度\", len(train_loader))\n",
    "    for i, (x, y) in enumerate(train_loader):\n",
    "        # 通道数是1 ,28*28的灰度图,batch_size=64\n",
    "        batch_x = Variable(x)  # torch.Size([batch_size, 1, 28, 28])\n",
    "        batch_y = Variable(y)  # torch.Size([batch_size])\n",
    "        # 获取最后输出\n",
    "        out = model(batch_x)  # torch.Size([batch_size,10])\n",
    "        # 获取损失\n",
    "        loss = loss_func(out, batch_y)\n",
    "        # 使用优化器优化损失\n",
    "        opt.zero_grad()  # 清空上一步残余更新参数值\n",
    "        loss.backward()  # 误差反向传播，计算参数更新值\n",
    "        opt.step()  # 将参数更新值施加到net的parmeters上\n",
    "        if i % 200 == 0:\n",
    "            loss_count.append(loss.item())\n",
    "            print('训练次数{}---{}:\\t--损失值{}'.format(\n",
    "                epoch,\n",
    "                i, loss.item()))\n",
    "            # 保存训练模型，以便下次使用\n",
    "\n",
    "            torch.save(model.state_dict(), r'./model/cnn_model.pkl')\n",
    "    # 打印测试诗句\n",
    "    # print(loss_count)\n",
    "    plt.figure('PyTorch_CNN_的损失值')\n",
    "    plt.plot(range(len(loss_count)), loss_count, label='Loss')\n",
    "    plt.title('PyTorch_CNN_的损失值')\n",
    "    plt.legend()\n",
    "    plt.show()\n"
   ],
   "metadata": {
    "collapsed": false,
    "pycharm": {
     "name": "#%%\n"
    }
   }
  },
  {
   "cell_type": "code",
   "execution_count": 59,
   "outputs": [
    {
     "name": "stdout",
     "output_type": "stream",
     "text": [
      "训练集的长度 938\n",
      "训练次数0---0:\t--损失值2.298621654510498\n",
      "训练次数0---200:\t--损失值0.2675950825214386\n",
      "训练次数0---400:\t--损失值0.03968646749854088\n",
      "训练次数0---600:\t--损失值0.07387620210647583\n",
      "训练次数0---800:\t--损失值0.04365703463554382\n"
     ]
    },
    {
     "data": {
      "text/plain": "<Figure size 432x288 with 1 Axes>",
      "image/png": "[encoded data removed]"
     },
     "metadata": {
      "needs_background": "light"
     },
     "output_type": "display_data"
    },
    {
     "name": "stdout",
     "output_type": "stream",
     "text": [
      "测试了100批次准确率为:\t 1.0\n",
      "测试了100批次准确率为:\t 0.96875\n",
      "总准确率：\t 0.9761146496815286\n",
      "[1.0, 0.953125, 0.984375, 0.984375, 0.984375, 1.0, 0.953125, 0.921875, 0.96875, 0.96875, 0.96875, 0.984375, 0.984375, 0.90625, 1.0, 0.9375, 0.984375, 0.96875, 0.96875, 0.953125, 0.984375, 0.953125, 0.953125, 0.96875, 0.96875, 1.0, 1.0, 0.984375, 0.953125, 1.0, 1.0, 0.984375, 0.984375, 0.96875, 1.0, 1.0, 0.96875, 0.921875, 0.96875, 1.0, 0.921875, 0.984375, 0.953125, 0.96875, 1.0, 1.0, 0.984375, 0.9375, 0.984375, 1.0, 0.984375, 0.953125, 0.96875, 0.9375, 1.0, 0.9375, 0.9375, 0.984375, 1.0, 0.984375, 0.984375, 0.96875, 0.96875, 0.96875, 0.984375, 0.96875, 0.96875, 0.953125, 0.984375, 0.96875, 0.984375, 0.96875, 1.0, 1.0, 0.984375, 0.984375, 0.96875, 0.984375, 1.0, 0.984375, 0.984375, 0.984375, 0.90625, 0.984375, 0.984375, 0.953125, 1.0, 0.96875, 1.0, 0.984375, 0.984375, 1.0, 0.96875, 0.953125, 1.0, 0.984375, 1.0, 1.0, 0.96875, 1.0, 0.96875, 0.984375, 0.984375, 0.984375, 0.984375, 0.984375, 0.984375, 0.96875, 1.0, 1.0, 0.96875, 0.96875, 0.9375, 0.984375, 0.953125, 0.9375, 0.984375, 0.96875, 0.96875, 0.984375, 0.984375, 1.0, 1.0, 0.953125, 0.9375, 0.96875, 0.984375, 0.984375, 1.0, 0.90625, 0.984375, 0.984375, 0.984375, 1.0, 1.0, 0.921875, 0.984375, 1.0, 0.953125, 0.984375, 1.0, 1.0, 0.96875, 0.96875, 0.96875, 0.984375, 0.96875, 0.984375, 0.96875, 0.9375, 1.0, 0.984375, 1.0, 1.0, 0.984375, 0.96875, 1.0]\n"
     ]
    },
    {
     "data": {
      "text/plain": "<Figure size 432x288 with 1 Axes>",
      "image/png": "[encoded data removed]"
     },
     "metadata": {
      "needs_background": "light"
     },
     "output_type": "display_data"
    },
    {
     "name": "stdout",
     "output_type": "stream",
     "text": [
      "训练集的长度 938\n",
      "训练次数1---0:\t--损失值0.06611811369657516\n",
      "训练次数1---200:\t--损失值0.01006704568862915\n",
      "训练次数1---400:\t--损失值0.03845612332224846\n",
      "训练次数1---600:\t--损失值0.05810136720538139\n",
      "训练次数1---800:\t--损失值0.06189412623643875\n"
     ]
    },
    {
     "data": {
      "text/plain": "<Figure size 432x288 with 1 Axes>",
      "image/png": "[encoded data removed]"
     },
     "metadata": {
      "needs_background": "light"
     },
     "output_type": "display_data"
    },
    {
     "name": "stdout",
     "output_type": "stream",
     "text": [
      "测试了100批次准确率为:\t 1.0\n",
      "测试了100批次准确率为:\t 0.96875\n",
      "总准确率：\t 0.9842754777070064\n",
      "[1.0, 0.984375, 0.984375, 1.0, 0.984375, 1.0, 0.984375, 0.96875, 0.984375, 1.0, 0.984375, 0.96875, 1.0, 0.984375, 0.984375, 1.0, 0.984375, 1.0, 0.984375, 1.0, 0.984375, 0.96875, 0.953125, 0.984375, 0.984375, 0.984375, 0.984375, 1.0, 0.984375, 0.984375, 0.96875, 0.96875, 0.984375, 0.96875, 1.0, 0.984375, 1.0, 0.953125, 1.0, 0.9375, 0.96875, 1.0, 1.0, 1.0, 0.984375, 0.984375, 0.984375, 1.0, 0.96875, 0.96875, 1.0, 0.984375, 0.96875, 1.0, 0.96875, 0.984375, 1.0, 0.9375, 0.96875, 0.96875, 1.0, 0.984375, 0.984375, 0.984375, 0.96875, 0.984375, 1.0, 0.984375, 1.0, 0.984375, 1.0, 1.0, 1.0, 0.984375, 0.984375, 1.0, 1.0, 1.0, 1.0, 0.96875, 0.984375, 1.0, 1.0, 0.96875, 0.984375, 0.953125, 1.0, 0.96875, 1.0, 0.96875, 0.984375, 0.984375, 0.984375, 1.0, 1.0, 0.96875, 0.953125, 0.984375, 0.953125, 1.0, 0.96875, 0.984375, 1.0, 0.984375, 0.984375, 0.984375, 1.0, 0.96875, 0.953125, 1.0, 1.0, 0.984375, 0.984375, 0.984375, 0.96875, 0.984375, 1.0, 1.0, 1.0, 0.96875, 0.984375, 0.96875, 1.0, 0.984375, 1.0, 1.0, 0.984375, 0.984375, 0.96875, 0.984375, 0.96875, 0.953125, 0.984375, 0.96875, 0.984375, 0.984375, 1.0, 1.0, 0.96875, 0.984375, 0.984375, 0.984375, 0.96875, 0.984375, 0.984375, 0.96875, 0.96875, 1.0, 0.984375, 1.0, 0.984375, 0.984375, 0.96875, 0.984375, 0.984375, 0.984375, 1.0]\n"
     ]
    },
    {
     "data": {
      "text/plain": "<Figure size 432x288 with 1 Axes>",
      "image/png": "[encoded data removed]"
     },
     "metadata": {
      "needs_background": "light"
     },
     "output_type": "display_data"
    },
    {
     "name": "stdout",
     "output_type": "stream",
     "text": [
      "训练集的长度 938\n",
      "训练次数2---0:\t--损失值0.10599659383296967\n",
      "训练次数2---200:\t--损失值0.02281034365296364\n",
      "训练次数2---400:\t--损失值0.06575636565685272\n",
      "训练次数2---600:\t--损失值0.01577090471982956\n",
      "训练次数2---800:\t--损失值0.01995464786887169\n"
     ]
    },
    {
     "data": {
      "text/plain": "<Figure size 432x288 with 1 Axes>",
      "image/png": "[encoded data removed]"
     },
     "metadata": {
      "needs_background": "light"
     },
     "output_type": "display_data"
    },
    {
     "name": "stdout",
     "output_type": "stream",
     "text": [
      "测试了100批次准确率为:\t 0.984375\n",
      "测试了100批次准确率为:\t 0.953125\n",
      "总准确率：\t 0.9844745222929936\n",
      "[0.984375, 0.984375, 0.953125, 0.96875, 0.984375, 1.0, 1.0, 1.0, 1.0, 0.96875, 1.0, 0.953125, 1.0, 0.9375, 1.0, 1.0, 0.96875, 0.96875, 0.96875, 0.984375, 0.9375, 1.0, 1.0, 1.0, 1.0, 0.96875, 1.0, 1.0, 0.984375, 0.984375, 1.0, 1.0, 0.984375, 1.0, 0.96875, 0.984375, 1.0, 0.9375, 1.0, 0.984375, 0.96875, 1.0, 0.984375, 1.0, 1.0, 0.953125, 0.984375, 0.984375, 1.0, 0.953125, 0.984375, 1.0, 0.96875, 0.984375, 1.0, 0.984375, 1.0, 0.984375, 0.96875, 0.984375, 0.96875, 0.984375, 1.0, 0.96875, 1.0, 0.984375, 0.984375, 0.96875, 1.0, 0.984375, 1.0, 0.953125, 0.984375, 1.0, 1.0, 0.984375, 0.984375, 0.953125, 0.984375, 0.984375, 0.96875, 1.0, 0.9375, 0.984375, 1.0, 0.984375, 1.0, 0.984375, 1.0, 0.984375, 0.984375, 1.0, 0.984375, 0.984375, 1.0, 1.0, 1.0, 0.984375, 1.0, 0.953125, 0.953125, 0.984375, 1.0, 1.0, 1.0, 0.984375, 0.984375, 0.984375, 0.984375, 0.96875, 1.0, 0.96875, 0.96875, 0.984375, 0.984375, 1.0, 1.0, 1.0, 0.984375, 0.984375, 1.0, 1.0, 1.0, 1.0, 1.0, 0.9375, 0.96875, 0.96875, 1.0, 0.984375, 0.984375, 1.0, 0.96875, 0.984375, 0.96875, 1.0, 0.984375, 0.96875, 1.0, 0.96875, 0.984375, 1.0, 1.0, 1.0, 0.953125, 0.96875, 0.984375, 0.984375, 0.96875, 1.0, 1.0, 0.953125, 0.984375, 1.0, 0.984375, 1.0, 0.9375]\n"
     ]
    },
    {
     "data": {
      "text/plain": "<Figure size 432x288 with 1 Axes>",
      "image/png": "[encoded data removed]"
     },
     "metadata": {
      "needs_background": "light"
     },
     "output_type": "display_data"
    }
   ],
   "source": [
    "def test():\n",
    "    # 获取测试集\n",
    "    accuracy_sum = []\n",
    "    test_loader = get_dataloader(False)\n",
    "    for index, (a, b) in enumerate(test_loader):\n",
    "        test_x = Variable(a)\n",
    "        test_y = Variable(b)\n",
    "        out = model(test_x)\n",
    "        accuracy = torch.max(out, 1)[1].numpy() == test_y.numpy()\n",
    "        accuracy_sum.append(accuracy.mean())\n",
    "        if index % 100 == 0:\n",
    "            print('测试了100批次准确率为:\\t', accuracy.mean())\n",
    "\n",
    "    print('总准确率：\\t', sum(accuracy_sum) / len(accuracy_sum))\n",
    "    # 精确率图\n",
    "    # print('总准确率：\\t', sum(accuracy_sum) / len(accuracy_sum))\n",
    "    plt.figure('Accuracy')\n",
    "    print(accuracy_sum)\n",
    "    plt.plot(range(len(accuracy_sum)), accuracy_sum, 'o', label='accuracy')\n",
    "    plt.title('Pytorch_CNN_准确率')\n",
    "    plt.legend()\n",
    "    plt.show()\n",
    "\n",
    "\n",
    "# 先训练一次\n",
    "# train(0)\n",
    "#\n",
    "# test_loader = get_dataloader(False)\n",
    "#\n",
    "# for index, (a, b) in enumerate(test_loader):\n",
    "#     test_x = Variable(a)\n",
    "#     test_y = Variable(b)\n",
    "#     show_image(test_x)\n",
    "#     out = model(test_x)\n",
    "#     print(out)\n",
    "#     print(torch.max(out, 1)[1].numpy())\n",
    "#     break\n",
    "# 进行测试和训练\n",
    "for epoch in range(3):\n",
    "    train(epoch)\n",
    "    test()"
   ],
   "metadata": {
    "collapsed": false,
    "pycharm": {
     "name": "#%%\n"
    }
   }
  }
 ],
 "metadata": {
  "kernelspec": {
   "display_name": "Python 3",
   "language": "python",
   "name": "python3"
  },
  "language_info": {
   "codemirror_mode": {
    "name": "ipython",
    "version": 2
   },
   "file_extension": ".py",
   "mimetype": "text/x-python",
   "name": "python",
   "nbconvert_exporter": "python",
   "pygments_lexer": "ipython2",
   "version": "2.7.6"
  }
 },
 "nbformat": 4,
 "nbformat_minor": 0
}